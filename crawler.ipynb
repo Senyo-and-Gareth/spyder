{
 "cells": [
  {
   "cell_type": "code",
   "execution_count": 44,
   "metadata": {},
   "outputs": [],
   "source": [
    "import os\n",
    "import wget\n",
    "import zlib\n",
    "import json\n",
    "import pprint\n",
    "import urllib\n",
    "import requests\n",
    "from functools import partial\n",
    "from bs4 import BeautifulSoup\n",
    "from selenium import webdriver"
   ]
  },
  {
   "cell_type": "code",
   "execution_count": 6,
   "metadata": {},
   "outputs": [],
   "source": [
    "def request(url, headers=None):\n",
    "    if headers is None:\n",
    "        headers = {\n",
    "            'Content-Type': 'text/html',\n",
    "            'Accept-Encoding': 'identity'\n",
    "        }\n",
    "    response = requests.get(url, headers=headers)\n",
    "    return response"
   ]
  },
  {
   "cell_type": "code",
   "execution_count": 61,
   "metadata": {},
   "outputs": [],
   "source": [
    "# for use with filter method\n",
    "def imagefilter(image, exclude_words):\n",
    "    for w in exclude_words:\n",
    "        if w in image:\n",
    "            return False\n",
    "    return True"
   ]
  },
  {
   "cell_type": "code",
   "execution_count": 87,
   "metadata": {},
   "outputs": [],
   "source": [
    "# for use with filter method\n",
    "def is_valid_image(image, exclude_words):\n",
    "    if 'tumblr_' not in image:\n",
    "        return False\n",
    "\n",
    "    for w in exclude_words:\n",
    "        if w in image:\n",
    "            return False\n",
    "\n",
    "    return True"
   ]
  },
  {
   "cell_type": "code",
   "execution_count": 7,
   "metadata": {},
   "outputs": [],
   "source": [
    "baseurl = 'https://www.tumblr.com/search'"
   ]
  },
  {
   "cell_type": "code",
   "execution_count": 8,
   "metadata": {},
   "outputs": [
    {
     "data": {
      "text/plain": [
       "'https://www.tumblr.com/search/cowboy+bebop'"
      ]
     },
     "execution_count": 8,
     "metadata": {},
     "output_type": "execute_result"
    }
   ],
   "source": [
    "search = 'cowboy bebop'\n",
    "url = urllib.parse.quote_plus(search)\n",
    "url = f'{baseurl}/{url}'\n",
    "url"
   ]
  },
  {
   "cell_type": "code",
   "execution_count": 9,
   "metadata": {},
   "outputs": [],
   "source": [
    "VALID_EXTS = ['.png', '.jpg', '.gif', '.gifv']"
   ]
  },
  {
   "cell_type": "code",
   "execution_count": 81,
   "metadata": {},
   "outputs": [],
   "source": [
    "EXCLUDE_WORDS = ['assets', 'static', '16x16', '64x64', '48x48']"
   ]
  },
  {
   "cell_type": "code",
   "execution_count": null,
   "metadata": {},
   "outputs": [],
   "source": []
  },
  {
   "cell_type": "code",
   "execution_count": 69,
   "metadata": {},
   "outputs": [],
   "source": [
    "response = request('https://gahdamnpunk.tumblr.com/post/185736435074/the-critical-thinking-the-self-awarenesstaste')\n",
    "soup = BeautifulSoup(response.content, 'html.parser')\n",
    "# Get all images\n",
    "images = []\n",
    "aimages = soup.find_all('img')\n",
    "for image in aimages:\n",
    "    image = image.get('src')\n",
    "    ext = os.path.splitext(image)[-1]\n",
    "    if ext in VALID_EXTS and is_valid_image(image, EXCLUDE_WORDS):\n",
    "        images.append(image)"
   ]
  },
  {
   "cell_type": "code",
   "execution_count": 88,
   "metadata": {},
   "outputs": [
    {
     "name": "stdout",
     "output_type": "stream",
     "text": [
      "Processing 1/20\n",
      "Processing 2/20\n",
      "Processing 3/20\n",
      "Processing 4/20\n",
      "Processing 5/20\n",
      "Processing 6/20\n",
      "Processing 7/20\n",
      "Processing 8/20\n",
      "Processing 9/20\n",
      "Processing 10/20\n",
      "Processing 11/20\n",
      "Processing 12/20\n",
      "Processing 13/20\n",
      "Processing 14/20\n",
      "Processing 15/20\n",
      "Processing 16/20\n",
      "Processing 17/20\n",
      "Processing 18/20\n",
      "Processing 19/20\n",
      "Processing 20/20\n"
     ]
    }
   ],
   "source": [
    "response = request(url)\n",
    "soup = BeautifulSoup(response.content, 'html.parser')\n",
    "\n",
    "\n",
    "scraped_data = []\n",
    "articles = soup.find_all('article')\n",
    "for i, article in enumerate(articles, start=1):\n",
    "    print(f'Processing {i}/{len(articles)}')\n",
    "    data = json.loads(article.get('data-json'))\n",
    "    post_url = data['share_popover_data']['post_url']\n",
    "    response = request(post_url)\n",
    "    soup = BeautifulSoup(response.content, 'html.parser')\n",
    "    \n",
    "    # Get image tags\n",
    "    try:\n",
    "        tags = soup.find('meta', {'name': 'keywords'}).get('content').split(',')\n",
    "    except AttributeError:\n",
    "        print('Page has no visible tags - skipping')\n",
    "        tags = []\n",
    "        \n",
    "    # Get all images\n",
    "    images = []\n",
    "    aimages = soup.find_all('img')\n",
    "    for image in aimages:\n",
    "        image = image.get('src')\n",
    "        ext = os.path.splitext(image)[-1]\n",
    "        if ext in VALID_EXTS and is_valid_image(image, EXCLUDE_WORDS):\n",
    "            images.append(image)\n",
    "\n",
    "    scraped_data.append({'url': post_url, 'tags': tags, 'images': images})"
   ]
  },
  {
   "cell_type": "code",
   "execution_count": 89,
   "metadata": {},
   "outputs": [
    {
     "data": {
      "text/plain": [
       "[{'url': 'https://kikuhikou.tumblr.com/post/186474360671/classics-series-iconic-anime-of-the-90s',\n",
       "  'tags': ['allanimanga',\n",
       "   'graphicsources',\n",
       "   'fyanimegifs',\n",
       "   'neon genesis evangelion',\n",
       "   'cowboy bebop'],\n",
       "  'images': ['https://64.media.tumblr.com/a4bd5eb4f1a65dcabc02176ac69edc9d/tumblr_puys87ZJnE1tkezr8o7_r1_500.gifv',\n",
       "   'https://64.media.tumblr.com/4daf8fd752b1808d72bdddd091415b7a/tumblr_puys87ZJnE1tkezr8o5_r1_500.gifv',\n",
       "   'https://64.media.tumblr.com/b61bdb65314d3985b9fb579d52010e18/tumblr_puys87ZJnE1tkezr8o4_r1_500.gifv',\n",
       "   'https://64.media.tumblr.com/b4b9404369f38a3835c5d9af6bcde94f/tumblr_puys87ZJnE1tkezr8o2_500.gifv',\n",
       "   'https://64.media.tumblr.com/8a0533f604288d0efc9222d68cc06faa/tumblr_puys87ZJnE1tkezr8o6_r1_500.gifv',\n",
       "   'https://64.media.tumblr.com/0f59c56cca8c5e72c8119ea4042cb120/tumblr_puys87ZJnE1tkezr8o8_r1_500.gifv',\n",
       "   'https://64.media.tumblr.com/0e09950eb20279c3459a48edbf691f6e/tumblr_puys87ZJnE1tkezr8o9_r1_500.gifv',\n",
       "   'https://64.media.tumblr.com/79b6f420bfd73dc8c42628e1e41623df/tumblr_puys87ZJnE1tkezr8o1_500.gifv',\n",
       "   'https://64.media.tumblr.com/3a20328660e0de7dcbd6b572c5e22546/tumblr_puys87ZJnE1tkezr8o3_500.gifv']},\n",
       " {'url': 'https://gahdamnpunk.tumblr.com/post/185736435074/the-critical-thinking-the-self-awarenesstaste',\n",
       "  'tags': ['anime',\n",
       "   'representation matters',\n",
       "   'shinichiro watanabe',\n",
       "   'cowboy bebop'],\n",
       "  'images': ['https://64.media.tumblr.com/90fe489ecf51bcc5d1dd3dc4bc17e995/tumblr_pmr6shzdAa1r9bq4i_1280.jpg']},\n",
       " {'url': 'https://thestomping-ground.tumblr.com/post/180155325681/bruh',\n",
       "  'tags': ['my hero academia', 'cowboy bebop'],\n",
       "  'images': ['https://64.media.tumblr.com/82087f7f5c8b60777659f967f4487953/tumblr_pi9hjdiHWM1qmkwzk_400.jpg']},\n",
       " {'url': 'https://benjaminwarnitz.tumblr.com/post/171095882682/2d3d-exercise',\n",
       "  'tags': ['benjamin warnitz', 'gobelins', 'crfa19', 'acting', '2D'],\n",
       "  'images': ['https://64.media.tumblr.com/2f19e0786458a0592d58e15f0ab643de/tumblr_inline_p4glczp2vX1sfsanu_500.gifv',\n",
       "   'https://64.media.tumblr.com/003f3083a5cdc9891541e8cce24a7daf/tumblr_inline_p4glcy0Usu1sfsanu_500.gifv',\n",
       "   'https://64.media.tumblr.com/b9a7bd9bd8d710258b3063b6356bb7b0/tumblr_inline_p4gld8osuT1sfsanu_500.gifv']},\n",
       " {'url': 'https://immloveanime.tumblr.com/post/180476092799/cowboy-bebop-newtype-usa-2003',\n",
       "  'tags': ['cowboy bebop', '500', '6k', '5k', '4k'],\n",
       "  'images': ['https://64.media.tumblr.com/b3d48aae3d6dee2727904c4e6bc77f36/tumblr_piprtdQjeU1u9y0nmo1_1280.jpg']},\n",
       " {'url': 'https://astromech-punk.tumblr.com/post/179873475246',\n",
       "  'tags': ['cowboy bebop', 'space cowboy', 'quotes'],\n",
       "  'images': ['https://64.media.tumblr.com/6f4c130a96aef8ca8398f6dff9780167/tumblr_phuin7TaLa1truknr_500.png']},\n",
       " {'url': 'https://maeda-motoko.tumblr.com/post/170605963555/steven-universe-vs-anime',\n",
       "  'tags': ['steven universe',\n",
       "   'su',\n",
       "   'anime',\n",
       "   'akira',\n",
       "   'neon genesis evangelion'],\n",
       "  'images': ['https://64.media.tumblr.com/8fb8b0bf07af76610907e0aa5ad0fe95/tumblr_pkqhp2Qnlo1ssvs1w_640.jpg',\n",
       "   'https://64.media.tumblr.com/a4e0a1d859f695350ecd18cacb1d7e6a/tumblr_pkqhp2dcDB1ssvs1w_640.jpg',\n",
       "   'https://64.media.tumblr.com/c6d6b188213156bc09932a5a87da9e07/tumblr_pkqhp2RCdC1ssvs1w_400.jpg',\n",
       "   'https://64.media.tumblr.com/727ea6b2263f03c7ede592ad18fc1076/tumblr_pkqhp2zERo1ssvs1w_400.jpg']},\n",
       " {'url': 'https://spencegeek.tumblr.com/post/173315872185',\n",
       "  'tags': ['cowboy bebop',\n",
       "   'Spike Spiegel',\n",
       "   'faye',\n",
       "   'faye valentine',\n",
       "   'ballad of fallen angels'],\n",
       "  'images': []},\n",
       " {'url': 'https://demigodxtonio.tumblr.com/post/172848837129',\n",
       "  'tags': ['cowboy bebop', 'faye', 'anime', 'gif', 'my gifs'],\n",
       "  'images': ['https://64.media.tumblr.com/485fc3bdd07ccc6ff658ee2969ce925a/tumblr_p720i4BFeW1rqe0rbo1_540.gifv']},\n",
       " {'url': 'https://viablejp.tumblr.com/post/172183561962',\n",
       "  'tags': ['cowboy bebop',\n",
       "   'spike spiegel',\n",
       "   'anime',\n",
       "   'retro anime',\n",
       "   'anime gif'],\n",
       "  'images': ['https://64.media.tumblr.com/a67050de5e90b57a179dd909f98bf757/tumblr_p5we366r9b1w2tfpoo1_500.gifv']},\n",
       " {'url': 'https://warakami-vaporwave.tumblr.com/post/189775868386/%E3%81%BE%E3%81%9F%E3%81%AD-follow-me-on-instagram',\n",
       "  'tags': ['cowboy bebop',\n",
       "   'cowboybebop',\n",
       "   'cyberghetto',\n",
       "   'vaporwave',\n",
       "   'animecore'],\n",
       "  'images': []},\n",
       " {'url': 'https://isohiko.tumblr.com/post/166837754423',\n",
       "  'tags': ['cowboy bebop', '001'],\n",
       "  'images': ['https://64.media.tumblr.com/b33f191004adbffda764944b2e9abf33/tumblr_oyelbaRUFp1r2terro1_640.png']},\n",
       " {'url': 'https://mobpsycho100.tumblr.com/post/188748914624',\n",
       "  'tags': ['gif', 'cowboy bebop'],\n",
       "  'images': []},\n",
       " {'url': 'https://kro-n-os.tumblr.com/post/172724993429',\n",
       "  'tags': ['cowboy bebop', 'faye valentine', 'ed'],\n",
       "  'images': ['https://64.media.tumblr.com/3c482dd4831055b30998de8c3522c56e/tumblr_neab1nHfXl1qlp4x9o1_400.gifv',\n",
       "   'https://64.media.tumblr.com/30c9d854f5e225c66116456b43ce7d54/tumblr_pgt0znrvxP1revorxo1_1280.jpg',\n",
       "   'https://64.media.tumblr.com/3b504a321924fa0478224656c7241d6c/tumblr_ozkg3zX9oY1w95g3io1_1280.png',\n",
       "   'https://64.media.tumblr.com/96917a4776ae1e45541cae4e0d82bcee/tumblr_ph9xigWy741s9033co2_r1_540.gifv',\n",
       "   'https://64.media.tumblr.com/tumblr_lyh5vnrEnG1r4fgeeo1_500.jpg']},\n",
       " {'url': 'https://lesbian-toddhoward.tumblr.com/post/613426957207683072',\n",
       "  'tags': ['ellie talks', 'video', 'cowboy bebop'],\n",
       "  'images': []},\n",
       " {'url': 'https://nicotineninja.tumblr.com/post/175691060112',\n",
       "  'tags': ['smoking', 'summer vibes', 'weed', 'stoner', 'punk'],\n",
       "  'images': ['https://64.media.tumblr.com/18255f881c62293e59dd4b2c886deeaa/tumblr_pbhdg1VFqm1xsa99jo1_500.gifv']},\n",
       " {'url': 'https://mycherryqueen.tumblr.com/post/167610214686/team-7-fight-scene-references',\n",
       "  'tags': ['team 7', 'steve rogers', '10k', '5k', '1k'],\n",
       "  'images': []},\n",
       " {'url': 'https://killbilled.tumblr.com/post/181090045360/cowboy-bebop-ost-yoko-kanno',\n",
       "  'tags': ['cowboy bebop',\n",
       "   'bebopedit',\n",
       "   'shinichiro watanabe',\n",
       "   'animeedit',\n",
       "   'oldanimeedit'],\n",
       "  'images': ['https://64.media.tumblr.com/bdc14ecc6ad5bee53a95af2d8937cf8b/tumblr_pjp4z7pCex1t1bfwbo2_500.gifv',\n",
       "   'https://64.media.tumblr.com/7bd52797a463571f426e41ba580c1f9e/tumblr_pjp4z7pCex1t1bfwbo4_500.gifv',\n",
       "   'https://64.media.tumblr.com/c0869565cc5c430927cdf31150455820/tumblr_pjp4z7pCex1t1bfwbo1_500.gifv',\n",
       "   'https://64.media.tumblr.com/c42c093ec3c75619e2a9f5cf13e857da/tumblr_pjp4z7pCex1t1bfwbo6_500.gifv',\n",
       "   'https://64.media.tumblr.com/a0da2c6bfc886aba285b519919f6afc5/tumblr_pjp4z7pCex1t1bfwbo3_500.gifv',\n",
       "   'https://64.media.tumblr.com/925ee5da9b78b43674fdf21ddf17db54/tumblr_pjp4z7pCex1t1bfwbo8_500.gifv',\n",
       "   'https://64.media.tumblr.com/1df5864adcb64581707fc8fc14612e56/tumblr_pjp4z7pCex1t1bfwbo9_500.gifv',\n",
       "   'https://64.media.tumblr.com/278c80f9706452fa77a2095e5e2ad8ff/tumblr_pjp4z7pCex1t1bfwbo5_500.gifv']},\n",
       " {'url': 'https://m4a1-shermayne.tumblr.com/post/178590938092',\n",
       "  'tags': ['huge fan of this one', 'cowboy bebop'],\n",
       "  'images': []},\n",
       " {'url': 'https://richterdandelion.tumblr.com/post/171393405657',\n",
       "  'tags': ['cowboy bebop',\n",
       "   'faye valentine',\n",
       "   'toonami',\n",
       "   'cartoon network',\n",
       "   'anime'],\n",
       "  'images': ['https://64.media.tumblr.com/1faed201d9fd95bde67e25269d026716/tumblr_p44489VFVK1waiid9o1_540.gifv',\n",
       "   'https://64.media.tumblr.com/cbf3c716f9eda99fb9665efaaaf5ef92/tumblr_pqc3exe3w21vs8u53_1280.jpg',\n",
       "   'https://64.media.tumblr.com/10d3890aa65eed1a56848ac6e8fed6fe/tumblr_puu9fvvstG1qfdhnbo1_1280.jpg']}]"
      ]
     },
     "execution_count": 89,
     "metadata": {},
     "output_type": "execute_result"
    }
   ],
   "source": [
    "scraped_data"
   ]
  },
  {
   "cell_type": "code",
   "execution_count": 86,
   "metadata": {},
   "outputs": [],
   "source": [
    "# base = 'images'\n",
    "# os.makedirs(base, exist_ok=True)\n",
    "# for photo in photos:\n",
    "#     wget.download(photo, out=base)"
   ]
  },
  {
   "cell_type": "code",
   "execution_count": null,
   "metadata": {},
   "outputs": [],
   "source": []
  }
 ],
 "metadata": {
  "kernelspec": {
   "display_name": "spyder",
   "language": "python",
   "name": "spyder"
  },
  "language_info": {
   "codemirror_mode": {
    "name": "ipython",
    "version": 3
   },
   "file_extension": ".py",
   "mimetype": "text/x-python",
   "name": "python",
   "nbconvert_exporter": "python",
   "pygments_lexer": "ipython3",
   "version": "3.7.5"
  }
 },
 "nbformat": 4,
 "nbformat_minor": 4
}
